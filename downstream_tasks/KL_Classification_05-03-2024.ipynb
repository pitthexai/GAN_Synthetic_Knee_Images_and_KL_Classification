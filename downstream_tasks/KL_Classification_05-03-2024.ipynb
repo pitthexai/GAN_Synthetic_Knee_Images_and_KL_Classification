{
 "cells": [
  {
   "cell_type": "code",
   "execution_count": 2,
   "metadata": {},
   "outputs": [],
   "source": [
    "import os\n",
    "import glob\n",
    "import shutil\n",
    "import copy\n",
    "\n",
    "import numpy as np\n",
    "import pandas as pd\n",
    "from PIL import Image\n",
    "import torch\n",
    "import torch.nn as nn\n",
    "import torch.optim as optim\n",
    "import albumentations as A\n",
    "from albumentations.pytorch import ToTensorV2\n",
    "\n",
    "from torch.utils.data import Dataset, DataLoader\n",
    "from torchmetrics import Accuracy\n",
    "from torchvision import models, transforms\n",
    "\n",
    "from sklearn.model_selection import KFold, train_test_split"
   ]
  },
  {
   "cell_type": "code",
   "execution_count": 3,
   "metadata": {},
   "outputs": [],
   "source": [
    "labels_key = {\n",
    "    \"KL01\": 0,\n",
    "    \"KL234\": 1\n",
    "}"
   ]
  },
  {
   "cell_type": "code",
   "execution_count": 4,
   "metadata": {},
   "outputs": [],
   "source": [
    "class ClassificationDataset(Dataset):\n",
    "    def __init__(self, images, label_key, transform=None):\n",
    "        self.images = images\n",
    "        self.labels = label_key\n",
    "        self.transforms = transform\n",
    "        \n",
    "    def __len__(self):\n",
    "        return len(self.images)\n",
    "    \n",
    "    def __getitem__(self, idx):\n",
    "        img = self.images[idx]\n",
    "        label = self.labels[img.split(\"/\")[-2]]\n",
    "        img = np.array(Image.open(img).convert(\"RGB\"))\n",
    "        if self.transforms is not None:\n",
    "            img = self.transforms(image=img)[\"image\"]\n",
    "            \n",
    "        return img.float(), torch.tensor(label).float()"
   ]
  },
  {
   "cell_type": "code",
   "execution_count": 5,
   "metadata": {},
   "outputs": [],
   "source": [
    "def get_model():\n",
    "    import copy\n",
    "    model = copy.deepcopy(models.resnet18(weights=models.ResNet18_Weights.DEFAULT))\n",
    "    # for param in model.parameters():\n",
    "    #     param.requires_grad_ = False\n",
    "    model.fc = nn.Linear(model.fc.in_features, 1)\n",
    "    model = model.to(device)\n",
    "\n",
    "    return model"
   ]
  },
  {
   "cell_type": "code",
   "execution_count": null,
   "metadata": {},
   "outputs": [],
   "source": []
  },
  {
   "cell_type": "code",
   "execution_count": 8,
   "metadata": {},
   "outputs": [],
   "source": [
    "KL01_real = np.array(list(glob.iglob(\"/data_vault/hexai/KL01_KL234_Real/KL01/**\")))\n",
    "KL234_real = np.array(list(glob.iglob(\"/data_vault/hexai/KL01_KL234_Real/KL234/**\")))\n",
    "all_real =  np.concatenate([KL01_real, KL234_real])\n",
    "\n",
    "KL01_fake = np.array(list(glob.iglob(\"/data_vault/hexai/SyntheticKneeImages/KL01/**\")))\n",
    "KL234_fake = np.array(list(glob.iglob(\"/data_vault/hexai/SyntheticKneeImages/KL234/**\")))\n",
    "all_fake =  np.concatenate([np.random.choice(KL01_fake, len(KL01_real)), np.random.choice(KL234_fake, len(KL234_real))])"
   ]
  },
  {
   "cell_type": "code",
   "execution_count": 20,
   "metadata": {},
   "outputs": [],
   "source": [
    "train_fake, test_fake = train_test_split(all_fake, random_state=42)\n",
    "train_fake, valid_fake = train_test_split(train_fake, random_state=42)\n",
    "\n",
    "augmentations = A.Compose([A.Resize(224, 224), ToTensorV2()])\n",
    "\n",
    "train_dataset = ClassificationDataset(train_fake, labels_key, transform=augmentations)\n",
    "valid_dataset = ClassificationDataset(valid_fake, labels_key, transform=augmentations)\n",
    "test_dataset = ClassificationDataset(test_fake, labels_key, transform=augmentations)\n",
    "\n",
    "train_dataloader = DataLoader(train_dataset, batch_size=64)\n",
    "valid_dataloader = DataLoader(valid_dataset, batch_size=64)\n",
    "test_dataloader = DataLoader(test_dataset, batch_size=64)\n",
    "\n",
    "device = \"cuda\" if torch.cuda.is_available() else \"cpu\"\n",
    "model = get_model()\n",
    "optimizer = optim.Adam(model.parameters(), lr=5e-04)"
   ]
  },
  {
   "cell_type": "code",
   "execution_count": 21,
   "metadata": {},
   "outputs": [
    {
     "name": "stdout",
     "output_type": "stream",
     "text": [
      "Epoch 0\n"
     ]
    },
    {
     "name": "stderr",
     "output_type": "stream",
     "text": [
      "100%|██████████| 66/66 [00:42<00:00,  1.54it/s]\n"
     ]
    },
    {
     "name": "stdout",
     "output_type": "stream",
     "text": [
      "Train Loss: 0.040508724184870844\n",
      "Train Accuracy: 0.978219696969697\n",
      "Val. Accuracy: 1.0\n",
      "Epoch 1\n"
     ]
    },
    {
     "name": "stderr",
     "output_type": "stream",
     "text": [
      "100%|██████████| 66/66 [00:36<00:00,  1.82it/s]\n"
     ]
    },
    {
     "name": "stdout",
     "output_type": "stream",
     "text": [
      "Train Loss: 0.000187539793070314\n",
      "Train Accuracy: 1.0\n",
      "Val. Accuracy: 1.0\n",
      "Test Accuracy: 1.0\n"
     ]
    }
   ],
   "source": [
    "from tqdm import tqdm\n",
    "best_model = None\n",
    "best_acc = 0.\n",
    "fake_accuracies = []\n",
    "\n",
    "criterion = nn.BCELoss()\n",
    "acc_metric = Accuracy(task=\"binary\").to(device)\n",
    "\n",
    "for epoch in range(2):\n",
    "    running_loss = []\n",
    "    running_acc = []\n",
    "    print(f\"Epoch {epoch}\")\n",
    "    model.train()\n",
    "    for img, label in tqdm(train_dataloader):\n",
    "        optimizer.zero_grad()\n",
    "        img = img.to(device)\n",
    "        label = label.to(device).float()\n",
    "        out = torch.sigmoid(model(img)).squeeze(dim=-1)\n",
    "        loss = criterion(out, label)\n",
    "        loss.backward()\n",
    "        optimizer.step()\n",
    "        running_loss.append(loss.item())\n",
    "        running_acc.append(acc_metric(out, label).item())\n",
    "    \n",
    "    print(f\"Train Loss: {np.mean(running_loss)}\")\n",
    "    print(f\"Train Accuracy: {np.mean(running_acc)}\")\n",
    "    \n",
    "    model.eval()\n",
    "    running_loss = []\n",
    "    running_acc = []\n",
    "    for img, label in valid_dataloader:        \n",
    "        img = img.to(device)\n",
    "        label = label.to(device).float()\n",
    "        out = torch.sigmoid(model(img.to(device))).squeeze(dim=-1)\n",
    "        running_acc.append(acc_metric(out, label).item())\n",
    "    val_acc =  np.mean(running_acc)\n",
    "    print(f\"Val. Accuracy: {val_acc}\")\n",
    "\n",
    "    if val_acc > best_acc:\n",
    "        best_acc = val_acc\n",
    "        best_model = model\n",
    "\n",
    "running_acc = []\n",
    "for img, label in test_dataloader:        \n",
    "    img = img.to(device)\n",
    "    label = label.to(device).float()\n",
    "    out = model(img.to(device)).squeeze(dim=-1)\n",
    "    running_acc.append(acc_metric(out, label).item())\n",
    "print(f\"Test Accuracy: {np.mean(running_acc)}\")\n"
   ]
  },
  {
   "cell_type": "code",
   "execution_count": 22,
   "metadata": {},
   "outputs": [],
   "source": [
    "KL01_real = np.array(list(glob.iglob(\"/data_vault/hexai/KL01_KL234_Real/KL01/**\")))\n",
    "KL234_real = np.array(list(glob.iglob(\"/data_vault/hexai/KL01_KL234_Real/KL234/**\")))\n",
    "all_real =  np.concatenate([KL01_real, KL234_real])\n",
    "\n",
    "test_dataset = ClassificationDataset(all_real, labels_key, transform=augmentations)\n",
    "test_dataloader = DataLoader(test_dataset, batch_size=64)\n"
   ]
  },
  {
   "cell_type": "code",
   "execution_count": null,
   "metadata": {},
   "outputs": [],
   "source": []
  },
  {
   "cell_type": "code",
   "execution_count": 23,
   "metadata": {},
   "outputs": [],
   "source": [
    "train_real, test_real= train_test_split(all_real, random_state=42, test_size=0.9)\n",
    "train_real, valid_real= train_test_split(train_real, random_state=42, test_size=0.2)\n",
    "\n",
    "train_dataset_real = ClassificationDataset(train_real, labels_key, transform=augmentations)\n",
    "valid_dataset_real = ClassificationDataset(valid_real, labels_key, transform=augmentations)\n",
    "test_dataset_real = ClassificationDataset(test_real, labels_key, transform=augmentations)\n",
    "\n",
    "train_dataloader_real = DataLoader(train_dataset_real, batch_size=64)\n",
    "valid_dataloader_real = DataLoader(valid_dataset_real, batch_size=64)\n",
    "test_dataloader_real = DataLoader(test_dataset_real, batch_size=64)"
   ]
  },
  {
   "cell_type": "code",
   "execution_count": 28,
   "metadata": {},
   "outputs": [
    {
     "name": "stdout",
     "output_type": "stream",
     "text": [
      "Epoch 0\n"
     ]
    },
    {
     "name": "stderr",
     "output_type": "stream",
     "text": [
      "  0%|          | 0/10 [00:00<?, ?it/s]"
     ]
    },
    {
     "name": "stderr",
     "output_type": "stream",
     "text": [
      "100%|██████████| 10/10 [00:01<00:00,  6.98it/s]\n"
     ]
    },
    {
     "name": "stdout",
     "output_type": "stream",
     "text": [
      "Train Loss: 1.464504098892212\n",
      "Train Accuracy: 0.621875\n",
      "Val. Accuracy: 0.6747159163157145\n",
      "Epoch 1\n"
     ]
    },
    {
     "name": "stderr",
     "output_type": "stream",
     "text": [
      "100%|██████████| 10/10 [00:01<00:00,  7.30it/s]\n"
     ]
    },
    {
     "name": "stdout",
     "output_type": "stream",
     "text": [
      "Train Loss: 0.6263467729091644\n",
      "Train Accuracy: 0.7603124976158142\n",
      "Val. Accuracy: 0.7414772709210714\n",
      "Epoch 2\n"
     ]
    },
    {
     "name": "stderr",
     "output_type": "stream",
     "text": [
      "100%|██████████| 10/10 [00:01<00:00,  7.01it/s]\n"
     ]
    },
    {
     "name": "stdout",
     "output_type": "stream",
     "text": [
      "Train Loss: 0.4163625329732895\n",
      "Train Accuracy: 0.8171875\n",
      "Val. Accuracy: 0.7930871248245239\n",
      "Epoch 3\n"
     ]
    },
    {
     "name": "stderr",
     "output_type": "stream",
     "text": [
      "100%|██████████| 10/10 [00:01<00:00,  7.33it/s]\n"
     ]
    },
    {
     "name": "stdout",
     "output_type": "stream",
     "text": [
      "Train Loss: 0.3081431984901428\n",
      "Train Accuracy: 0.86875\n",
      "Val. Accuracy: 0.7215909163157145\n",
      "Epoch 4\n"
     ]
    },
    {
     "name": "stderr",
     "output_type": "stream",
     "text": [
      "100%|██████████| 10/10 [00:01<00:00,  7.28it/s]\n"
     ]
    },
    {
     "name": "stdout",
     "output_type": "stream",
     "text": [
      "Train Loss: 0.2362002246081829\n",
      "Train Accuracy: 0.909375\n",
      "Val. Accuracy: 0.767518937587738\n",
      "Epoch 5\n"
     ]
    },
    {
     "name": "stderr",
     "output_type": "stream",
     "text": [
      "100%|██████████| 10/10 [00:01<00:00,  7.30it/s]\n"
     ]
    },
    {
     "name": "stdout",
     "output_type": "stream",
     "text": [
      "Train Loss: 0.17511709704995154\n",
      "Train Accuracy: 0.95\n",
      "Val. Accuracy: 0.7878787914911906\n",
      "Epoch 6\n"
     ]
    },
    {
     "name": "stderr",
     "output_type": "stream",
     "text": [
      "100%|██████████| 10/10 [00:01<00:00,  7.31it/s]\n"
     ]
    },
    {
     "name": "stdout",
     "output_type": "stream",
     "text": [
      "Train Loss: 0.12164773978292942\n",
      "Train Accuracy: 0.975\n",
      "Val. Accuracy: 0.8035037914911906\n",
      "Epoch 7\n"
     ]
    },
    {
     "name": "stderr",
     "output_type": "stream",
     "text": [
      "100%|██████████| 10/10 [00:01<00:00,  7.31it/s]\n"
     ]
    },
    {
     "name": "stdout",
     "output_type": "stream",
     "text": [
      "Train Loss: 0.07959169521927834\n",
      "Train Accuracy: 0.996875\n",
      "Val. Accuracy: 0.8035037914911906\n",
      "Epoch 8\n"
     ]
    },
    {
     "name": "stderr",
     "output_type": "stream",
     "text": [
      "100%|██████████| 10/10 [00:01<00:00,  7.32it/s]\n"
     ]
    },
    {
     "name": "stdout",
     "output_type": "stream",
     "text": [
      "Train Loss: 0.049932716973125936\n",
      "Train Accuracy: 0.9984375\n",
      "Val. Accuracy: 0.8035037914911906\n",
      "Epoch 9\n"
     ]
    },
    {
     "name": "stderr",
     "output_type": "stream",
     "text": [
      "100%|██████████| 10/10 [00:01<00:00,  7.32it/s]\n"
     ]
    },
    {
     "name": "stdout",
     "output_type": "stream",
     "text": [
      "Train Loss: 0.03172651063650846\n",
      "Train Accuracy: 1.0\n",
      "Val. Accuracy: 0.8087121248245239\n",
      "Epoch 10\n"
     ]
    },
    {
     "name": "stderr",
     "output_type": "stream",
     "text": [
      "100%|██████████| 10/10 [00:01<00:00,  7.33it/s]\n"
     ]
    },
    {
     "name": "stdout",
     "output_type": "stream",
     "text": [
      "Train Loss: 0.021310441475361586\n",
      "Train Accuracy: 1.0\n",
      "Val. Accuracy: 0.8035037914911906\n",
      "Epoch 11\n"
     ]
    },
    {
     "name": "stderr",
     "output_type": "stream",
     "text": [
      "100%|██████████| 10/10 [00:01<00:00,  7.31it/s]\n"
     ]
    },
    {
     "name": "stdout",
     "output_type": "stream",
     "text": [
      "Train Loss: 0.015263016242533923\n",
      "Train Accuracy: 1.0\n",
      "Val. Accuracy: 0.8087121248245239\n",
      "Epoch 12\n"
     ]
    },
    {
     "name": "stderr",
     "output_type": "stream",
     "text": [
      "100%|██████████| 10/10 [00:01<00:00,  7.31it/s]\n"
     ]
    },
    {
     "name": "stdout",
     "output_type": "stream",
     "text": [
      "Train Loss: 0.011573695112019777\n",
      "Train Accuracy: 1.0\n",
      "Val. Accuracy: 0.8035037914911906\n",
      "Epoch 13\n"
     ]
    },
    {
     "name": "stderr",
     "output_type": "stream",
     "text": [
      "100%|██████████| 10/10 [00:01<00:00,  7.32it/s]\n"
     ]
    },
    {
     "name": "stdout",
     "output_type": "stream",
     "text": [
      "Train Loss: 0.009183799708262086\n",
      "Train Accuracy: 1.0\n",
      "Val. Accuracy: 0.8035037914911906\n",
      "Epoch 14\n"
     ]
    },
    {
     "name": "stderr",
     "output_type": "stream",
     "text": [
      "100%|██████████| 10/10 [00:01<00:00,  7.00it/s]\n"
     ]
    },
    {
     "name": "stdout",
     "output_type": "stream",
     "text": [
      "Train Loss: 0.007547787390649319\n",
      "Train Accuracy: 1.0\n",
      "Val. Accuracy: 0.8035037914911906\n",
      "Epoch 15\n"
     ]
    },
    {
     "name": "stderr",
     "output_type": "stream",
     "text": [
      "100%|██████████| 10/10 [00:01<00:00,  7.33it/s]\n"
     ]
    },
    {
     "name": "stdout",
     "output_type": "stream",
     "text": [
      "Train Loss: 0.006367328623309731\n",
      "Train Accuracy: 1.0\n",
      "Val. Accuracy: 0.8035037914911906\n",
      "Epoch 16\n"
     ]
    },
    {
     "name": "stderr",
     "output_type": "stream",
     "text": [
      "100%|██████████| 10/10 [00:01<00:00,  6.86it/s]\n"
     ]
    },
    {
     "name": "stdout",
     "output_type": "stream",
     "text": [
      "Train Loss: 0.005482796858996153\n",
      "Train Accuracy: 1.0\n",
      "Val. Accuracy: 0.8035037914911906\n",
      "Epoch 17\n"
     ]
    },
    {
     "name": "stderr",
     "output_type": "stream",
     "text": [
      "100%|██████████| 10/10 [00:01<00:00,  7.23it/s]\n"
     ]
    },
    {
     "name": "stdout",
     "output_type": "stream",
     "text": [
      "Train Loss: 0.004797426471486688\n",
      "Train Accuracy: 1.0\n",
      "Val. Accuracy: 0.7883522709210714\n",
      "Epoch 18\n"
     ]
    },
    {
     "name": "stderr",
     "output_type": "stream",
     "text": [
      "100%|██████████| 10/10 [00:01<00:00,  7.29it/s]\n"
     ]
    },
    {
     "name": "stdout",
     "output_type": "stream",
     "text": [
      "Train Loss: 0.004251281195320189\n",
      "Train Accuracy: 1.0\n",
      "Val. Accuracy: 0.7883522709210714\n",
      "Epoch 19\n"
     ]
    },
    {
     "name": "stderr",
     "output_type": "stream",
     "text": [
      "100%|██████████| 10/10 [00:01<00:00,  7.30it/s]\n"
     ]
    },
    {
     "name": "stdout",
     "output_type": "stream",
     "text": [
      "Train Loss: 0.0038069609319791196\n",
      "Train Accuracy: 1.0\n",
      "Val. Accuracy: 0.7883522709210714\n",
      "Test Accuracy: 0.7589134380930946\n"
     ]
    }
   ],
   "source": [
    "best_model_v2 = None\n",
    "best_acc = 0.\n",
    "model = copy.deepcopy(best_model)\n",
    "for param in model.parameters():\n",
    "    param.requires_grad_ = False\n",
    "model.fc.requires_grad_ = True\n",
    "model=model.cuda()\n",
    "\n",
    "optimizer = optim.Adam(model.parameters(), lr=5e-4)\n",
    "\n",
    "for epoch in range(20):\n",
    "    running_loss = []\n",
    "    running_acc = []\n",
    "    print(f\"Epoch {epoch}\")\n",
    "    model.train()\n",
    "    for img, label in tqdm(train_dataloader_real):\n",
    "        optimizer.zero_grad()\n",
    "        img = img.to(device)\n",
    "        label = label.to(device).float()\n",
    "        out = torch.sigmoid(model(img)).squeeze(dim=-1)\n",
    "        loss = criterion(out, label)\n",
    "        loss.backward()\n",
    "        optimizer.step()\n",
    "        running_loss.append(loss.item())\n",
    "        running_acc.append(acc_metric(out, label).item())\n",
    "    \n",
    "    print(f\"Train Loss: {np.mean(running_loss)}\")\n",
    "    print(f\"Train Accuracy: {np.mean(running_acc)}\")\n",
    "    \n",
    "    model.eval()\n",
    "    running_loss = []\n",
    "    running_acc = []\n",
    "    for img, label in valid_dataloader_real:        \n",
    "        img = img.to(device)\n",
    "        label = label.to(device).float()\n",
    "        out = torch.sigmoid(model(img.to(device))).squeeze(dim=-1)\n",
    "        running_acc.append(acc_metric(out, label).item())\n",
    "    val_acc =  np.mean(running_acc)\n",
    "    print(f\"Val. Accuracy: {val_acc}\")\n",
    "\n",
    "    if val_acc > best_acc:\n",
    "        best_acc = val_acc\n",
    "        best_model_v2 = model\n",
    "\n",
    "running_acc = []\n",
    "for img, label in test_dataloader_real:        \n",
    "    img = img.to(device)\n",
    "    label = label.to(device).float()\n",
    "    out = best_model_v2(img.to(device)).squeeze(dim=-1)\n",
    "    running_acc.append(acc_metric(out, label).item())\n",
    "print(f\"Test Accuracy: {np.mean(running_acc)}\")\n"
   ]
  },
  {
   "cell_type": "code",
   "execution_count": 14,
   "metadata": {},
   "outputs": [],
   "source": [
    "torch.save(best_model_v2, \"resnet18_finetuned_KL.pt\")"
   ]
  },
  {
   "cell_type": "code",
   "execution_count": 15,
   "metadata": {},
   "outputs": [],
   "source": [
    "train_real, test_real= train_test_split(all_real, random_state=42)\n",
    "train_real, valid_real= train_test_split(train_real, random_state=42)\n",
    "\n",
    "train_dataset_real = ClassificationDataset(train_real, labels_key, transform=augmentations)\n",
    "valid_dataset_real = ClassificationDataset(valid_real, labels_key, transform=augmentations)\n",
    "test_dataset_real = ClassificationDataset(test_real, labels_key, transform=augmentations)\n",
    "\n",
    "train_dataloader = DataLoader(train_dataset_real, batch_size=64)\n",
    "valid_dataloader = DataLoader(valid_dataset_real, batch_size=64)\n",
    "test_dataloader = DataLoader(test_dataset_real, batch_size=64)"
   ]
  },
  {
   "cell_type": "code",
   "execution_count": 17,
   "metadata": {},
   "outputs": [
    {
     "name": "stdout",
     "output_type": "stream",
     "text": [
      "Epoch 0\n"
     ]
    },
    {
     "name": "stderr",
     "output_type": "stream",
     "text": [
      "100%|██████████| 66/66 [00:10<00:00,  6.56it/s]\n"
     ]
    },
    {
     "name": "stdout",
     "output_type": "stream",
     "text": [
      "Train Loss: 0.49566961644273816\n",
      "Train Accuracy: 0.7607323229312897\n",
      "Val. Accuracy: 0.8195118795741688\n",
      "Epoch 1\n"
     ]
    },
    {
     "name": "stderr",
     "output_type": "stream",
     "text": [
      "100%|██████████| 66/66 [00:10<00:00,  6.51it/s]\n"
     ]
    },
    {
     "name": "stdout",
     "output_type": "stream",
     "text": [
      "Train Loss: 0.3249477967619896\n",
      "Train Accuracy: 0.8623737376747709\n",
      "Val. Accuracy: 0.7998708676208149\n",
      "Epoch 2\n"
     ]
    },
    {
     "name": "stderr",
     "output_type": "stream",
     "text": [
      "100%|██████████| 66/66 [00:10<00:00,  6.51it/s]\n"
     ]
    },
    {
     "name": "stdout",
     "output_type": "stream",
     "text": [
      "Train Loss: 0.24797720247597405\n",
      "Train Accuracy: 0.8958859425602537\n",
      "Val. Accuracy: 0.8077866733074188\n",
      "Epoch 3\n"
     ]
    },
    {
     "name": "stderr",
     "output_type": "stream",
     "text": [
      "100%|██████████| 66/66 [00:10<00:00,  6.16it/s]\n"
     ]
    },
    {
     "name": "stdout",
     "output_type": "stream",
     "text": [
      "Train Loss: 0.1898858528019804\n",
      "Train Accuracy: 0.9267150669386892\n",
      "Val. Accuracy: 0.8063791312954642\n",
      "Epoch 4\n"
     ]
    },
    {
     "name": "stderr",
     "output_type": "stream",
     "text": [
      "100%|██████████| 66/66 [00:10<00:00,  6.51it/s]\n"
     ]
    },
    {
     "name": "stdout",
     "output_type": "stream",
     "text": [
      "Train Loss: 0.1821269103410569\n",
      "Train Accuracy: 0.9285037878787878\n",
      "Val. Accuracy: 0.7490831613540649\n",
      "Epoch 5\n"
     ]
    },
    {
     "name": "stderr",
     "output_type": "stream",
     "text": [
      "100%|██████████| 66/66 [00:10<00:00,  6.59it/s]\n"
     ]
    },
    {
     "name": "stdout",
     "output_type": "stream",
     "text": [
      "Train Loss: 0.11033567616885359\n",
      "Train Accuracy: 0.9576231060606061\n",
      "Val. Accuracy: 0.7990315095944838\n",
      "Epoch 6\n"
     ]
    },
    {
     "name": "stderr",
     "output_type": "stream",
     "text": [
      "100%|██████████| 66/66 [00:10<00:00,  6.55it/s]\n"
     ]
    },
    {
     "name": "stdout",
     "output_type": "stream",
     "text": [
      "Train Loss: 0.12271814336153594\n",
      "Train Accuracy: 0.9505208333333334\n",
      "Val. Accuracy: 0.7893336767500098\n",
      "Epoch 7\n"
     ]
    },
    {
     "name": "stderr",
     "output_type": "stream",
     "text": [
      "100%|██████████| 66/66 [00:10<00:00,  6.49it/s]\n"
     ]
    },
    {
     "name": "stdout",
     "output_type": "stream",
     "text": [
      "Train Loss: 0.09731369228525595\n",
      "Train Accuracy: 0.9611742424242424\n",
      "Val. Accuracy: 0.8165418397296559\n",
      "Epoch 8\n"
     ]
    },
    {
     "name": "stderr",
     "output_type": "stream",
     "text": [
      "100%|██████████| 66/66 [00:10<00:00,  6.51it/s]\n"
     ]
    },
    {
     "name": "stdout",
     "output_type": "stream",
     "text": [
      "Train Loss: 0.051676602004039465\n",
      "Train Accuracy: 0.9820075757575758\n",
      "Val. Accuracy: 0.8163223131136461\n",
      "Epoch 9\n"
     ]
    },
    {
     "name": "stderr",
     "output_type": "stream",
     "text": [
      "100%|██████████| 66/66 [00:10<00:00,  6.57it/s]\n"
     ]
    },
    {
     "name": "stdout",
     "output_type": "stream",
     "text": [
      "Train Loss: 0.02219417081285042\n",
      "Train Accuracy: 0.9931870789238901\n",
      "Val. Accuracy: 0.843775827776302\n",
      "Epoch 10\n"
     ]
    },
    {
     "name": "stderr",
     "output_type": "stream",
     "text": [
      "100%|██████████| 66/66 [00:10<00:00,  6.58it/s]\n"
     ]
    },
    {
     "name": "stdout",
     "output_type": "stream",
     "text": [
      "Train Loss: 0.01772012641110147\n",
      "Train Accuracy: 0.9945549242424242\n",
      "Val. Accuracy: 0.8306430794975974\n",
      "Epoch 11\n"
     ]
    },
    {
     "name": "stderr",
     "output_type": "stream",
     "text": [
      "100%|██████████| 66/66 [00:10<00:00,  6.51it/s]\n"
     ]
    },
    {
     "name": "stdout",
     "output_type": "stream",
     "text": [
      "Train Loss: 0.021432209594146996\n",
      "Train Accuracy: 0.9933712121212122\n",
      "Val. Accuracy: 0.8466167368672111\n",
      "Epoch 12\n"
     ]
    },
    {
     "name": "stderr",
     "output_type": "stream",
     "text": [
      "100%|██████████| 66/66 [00:10<00:00,  6.57it/s]\n"
     ]
    },
    {
     "name": "stdout",
     "output_type": "stream",
     "text": [
      "Train Loss: 0.04539207039245715\n",
      "Train Accuracy: 0.9813499577117689\n",
      "Val. Accuracy: 0.7908703522248701\n",
      "Epoch 13\n"
     ]
    },
    {
     "name": "stderr",
     "output_type": "stream",
     "text": [
      "100%|██████████| 66/66 [00:10<00:00,  6.56it/s]\n"
     ]
    },
    {
     "name": "stdout",
     "output_type": "stream",
     "text": [
      "Train Loss: 0.02996207151392644\n",
      "Train Accuracy: 0.9919507575757576\n",
      "Val. Accuracy: 0.8138300613923506\n",
      "Epoch 14\n"
     ]
    },
    {
     "name": "stderr",
     "output_type": "stream",
     "text": [
      "100%|██████████| 66/66 [00:10<00:00,  6.28it/s]\n"
     ]
    },
    {
     "name": "stdout",
     "output_type": "stream",
     "text": [
      "Train Loss: 0.022443739453923296\n",
      "Train Accuracy: 0.9921875\n",
      "Val. Accuracy: 0.8385717977177013\n",
      "Epoch 15\n"
     ]
    },
    {
     "name": "stderr",
     "output_type": "stream",
     "text": [
      "100%|██████████| 66/66 [00:10<00:00,  6.52it/s]\n"
     ]
    },
    {
     "name": "stdout",
     "output_type": "stream",
     "text": [
      "Train Loss: 0.013205095165176317\n",
      "Train Accuracy: 0.9957386363636364\n",
      "Val. Accuracy: 0.8481534096327695\n",
      "Epoch 16\n"
     ]
    },
    {
     "name": "stderr",
     "output_type": "stream",
     "text": [
      "100%|██████████| 66/66 [00:10<00:00,  6.57it/s]\n"
     ]
    },
    {
     "name": "stdout",
     "output_type": "stream",
     "text": [
      "Train Loss: 0.008214052041170582\n",
      "Train Accuracy: 0.9967382152875265\n",
      "Val. Accuracy: 0.83986311880025\n",
      "Epoch 17\n"
     ]
    },
    {
     "name": "stderr",
     "output_type": "stream",
     "text": [
      "100%|██████████| 66/66 [00:10<00:00,  6.59it/s]\n"
     ]
    },
    {
     "name": "stdout",
     "output_type": "stream",
     "text": [
      "Train Loss: 0.02112949200267339\n",
      "Train Accuracy: 0.9926609848484849\n",
      "Val. Accuracy: 0.82423811880025\n",
      "Epoch 18\n"
     ]
    },
    {
     "name": "stderr",
     "output_type": "stream",
     "text": [
      "100%|██████████| 66/66 [00:10<00:00,  6.46it/s]\n"
     ]
    },
    {
     "name": "stdout",
     "output_type": "stream",
     "text": [
      "Train Loss: 0.030942943469254358\n",
      "Train Accuracy: 0.9888731060606061\n",
      "Val. Accuracy: 0.8409349186853929\n",
      "Epoch 19\n"
     ]
    },
    {
     "name": "stderr",
     "output_type": "stream",
     "text": [
      "100%|██████████| 66/66 [00:10<00:00,  6.60it/s]\n"
     ]
    },
    {
     "name": "stdout",
     "output_type": "stream",
     "text": [
      "Train Loss: 0.025718428496144374\n",
      "Train Accuracy: 0.9907670454545454\n",
      "Val. Accuracy: 0.8357308886267922\n",
      "Test Accuracy: 0.8352083325386047\n"
     ]
    }
   ],
   "source": [
    "from tqdm import tqdm\n",
    "best_model = None\n",
    "best_acc = 0.\n",
    "fake_accuracies = []\n",
    "model = get_model()\n",
    "\n",
    "criterion = nn.BCELoss()\n",
    "acc_metric = Accuracy(task=\"binary\").to(device)\n",
    "optimizer = optim.Adam(model.parameters(), lr=5e-4)\n",
    "\n",
    "for epoch in range(20):\n",
    "    running_loss = []\n",
    "    running_acc = []\n",
    "    print(f\"Epoch {epoch}\")\n",
    "    model.train()\n",
    "    for img, label in tqdm(train_dataloader):\n",
    "        optimizer.zero_grad()\n",
    "        img = img.to(device)\n",
    "        label = label.to(device).float()\n",
    "        out = torch.sigmoid(model(img)).squeeze(dim=-1)\n",
    "        loss = criterion(out, label)\n",
    "        loss.backward()\n",
    "        optimizer.step()\n",
    "        running_loss.append(loss.item())\n",
    "        running_acc.append(acc_metric(out, label).item())\n",
    "    \n",
    "    print(f\"Train Loss: {np.mean(running_loss)}\")\n",
    "    print(f\"Train Accuracy: {np.mean(running_acc)}\")\n",
    "    \n",
    "    model.eval()\n",
    "    running_loss = []\n",
    "    running_acc = []\n",
    "    for img, label in valid_dataloader:        \n",
    "        img = img.to(device)\n",
    "        label = label.to(device).float()\n",
    "        out = torch.sigmoid(model(img.to(device))).squeeze(dim=-1)\n",
    "        running_acc.append(acc_metric(out, label).item())\n",
    "    val_acc =  np.mean(running_acc)\n",
    "    print(f\"Val. Accuracy: {val_acc}\")\n",
    "\n",
    "    if val_acc > best_acc:\n",
    "        best_acc = val_acc\n",
    "        best_model = model\n",
    "\n",
    "\n"
   ]
  },
  {
   "cell_type": "code",
   "execution_count": 18,
   "metadata": {},
   "outputs": [
    {
     "name": "stdout",
     "output_type": "stream",
     "text": [
      "Test Accuracy: 0.8352083325386047\n"
     ]
    }
   ],
   "source": [
    "running_acc = []\n",
    "for img, label in test_dataloader:        \n",
    "    img = img.to(device)\n",
    "    label = label.to(device).float()\n",
    "    out = best_model(img.to(device)).squeeze(dim=-1)\n",
    "    running_acc.append(acc_metric(out, label).item())\n",
    "print(f\"Test Accuracy: {np.mean(running_acc)}\")"
   ]
  },
  {
   "cell_type": "code",
   "execution_count": 19,
   "metadata": {},
   "outputs": [],
   "source": [
    "torch.save(best_model, \"resnet18_KL_real.pt\")"
   ]
  },
  {
   "cell_type": "code",
   "execution_count": null,
   "metadata": {},
   "outputs": [],
   "source": []
  }
 ],
 "metadata": {
  "kernelspec": {
   "display_name": "lora",
   "language": "python",
   "name": "python3"
  },
  "language_info": {
   "codemirror_mode": {
    "name": "ipython",
    "version": 3
   },
   "file_extension": ".py",
   "mimetype": "text/x-python",
   "name": "python",
   "nbconvert_exporter": "python",
   "pygments_lexer": "ipython3",
   "version": "3.12.2"
  }
 },
 "nbformat": 4,
 "nbformat_minor": 2
}
